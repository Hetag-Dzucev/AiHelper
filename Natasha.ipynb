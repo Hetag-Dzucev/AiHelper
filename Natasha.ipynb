{
 "cells": [
  {
   "cell_type": "code",
   "execution_count": 1,
   "metadata": {
    "collapsed": false
   },
   "outputs": [
    {
     "name": "stdout",
     "output_type": "stream",
     "text": [
      "pygame 1.9.4\n",
      "Hello from the pygame community. https://www.pygame.org/contribute.html\n",
      "Здраствуйте, Вы дозвонились в такси \"Сын маминой подруги\", Где вы находитесь\n"
     ]
    },
    {
     "name": "stderr",
     "output_type": "stream",
     "text": [
      "/home/hetag/anaconda3/lib/python3.5/site-packages/requests/packages/urllib3/connectionpool.py:838: InsecureRequestWarning: Unverified HTTPS request is being made. Adding certificate verification is strongly advised. See: https://urllib3.readthedocs.io/en/latest/security.html\n",
      "  InsecureRequestWarning)\n"
     ]
    }
   ],
   "source": [
    "# Чтение вслух\n",
    "import os\n",
    "import re\n",
    "from pygame import mixer\n",
    "import datetime\n",
    "import time\n",
    "from gtts import gTTS\n",
    "import json\n",
    "\n",
    "# Для того чтобы не возникало коллизий при удалении mp3 файлов\n",
    "# заведем переменную mp3_nameold в которой будем хранить имя предыдущего mp3 файла\n",
    "mp3_nameold='111'\n",
    "mp3_name = \"1.mp3\"\n",
    "\n",
    "# Инициализируем звуковое устройство\n",
    "mixer.init()\n",
    "\n",
    "# Открываем файл с текстом и по очереди читаем с него строки в ss\n",
    "f = open(\"from.txt\",\"r\")\n",
    "ss = f.readline()\n",
    "while ss:\n",
    "    # Делим прочитанные строки на отдельные предложения\n",
    "    split_regex = re.compile(r'[.|!|?|…]')\n",
    "    sentences = filter(lambda t: t, [t.strip() for t in split_regex.split(ss)])\n",
    "\n",
    "    # Перебираем массив с предложениями \n",
    "    for x in sentences:\n",
    "        if(x!=\"\"):\n",
    "            print(x)\n",
    "            # Эта строка отправляет предложение которое нужно озвучить гуглу\n",
    "            tts=gTTS(text=x, lang='ru', slow=False)\n",
    "            # Получаем от гугла озвученное предложение в виде mp3 файла           \n",
    "            tts.save(mp3_name)\n",
    "            # Проигрываем полученный mp3 файл\n",
    "            mixer.music.load(mp3_name)\n",
    "            mixer.music.play()\n",
    "            while mixer.music.get_busy():\n",
    "                time.sleep(0.1)\n",
    "            # Если предыдущий mp3 файл существует удаляем его\n",
    "            # чтобы не захламлять папку с приложением кучей mp3 файлов\n",
    "            if(os.path.exists(mp3_nameold) and (mp3_nameold!=\"1.mp3\")):\n",
    "                os.remove(mp3_nameold)\n",
    "            mp3_nameold=mp3_name\n",
    "            # Формируем имя mp3 файла куда будет сохраняться озвученный текст текущего предложения\n",
    "            # В качестве имени файла используем текущие дату и время\n",
    "            now_time = datetime.datetime.now()\n",
    "            mp3_name = now_time.strftime(\"%d%m%Y%I%M%S\")+\".mp3\"\n",
    "            \n",
    "    # Читаем следующую порцию текста из файла\n",
    "    ss = f.readline()\n",
    "\n",
    "# Закрываем файл    \n",
    "f.close\n",
    "\n",
    "# Устанвливаем текущим файлом 1.mp3 и закрываем звуковое устройство\n",
    "# Это нужно чтобы мы могли удалить предыдущий mp3 файл без колизий\n",
    "mixer.music.load('1.mp3')\n",
    "mixer.stop\n",
    "mixer.quit\n",
    "\n",
    "# Удаляем последний предыдущий mp3 файл\n",
    "if(os.path.exists(mp3_nameold)):\n",
    "    os.remove(mp3_nameold)\n"
   ]
  },
  {
   "cell_type": "code",
   "execution_count": 2,
   "metadata": {
    "collapsed": false
   },
   "outputs": [
    {
     "name": "stdout",
     "output_type": "stream",
     "text": [
      "Text: я нахожусь на улице шмулевича 5\n"
     ]
    }
   ],
   "source": [
    "import pygame\n",
    "import time\n",
    "pygame.init()\n",
    "pygame.mixer.music.load(\"2.wav\")\n",
    "pygame.mixer.music.play()\n",
    "time.sleep(10)\n",
    "\n",
    "import speech_recognition as sr\n",
    "r = sr.Recognizer()\n",
    "with sr.AudioFile(\"2.wav\") as source:\n",
    "    audio = r.record(source)\n",
    "\n",
    "try:\n",
    "    s = r.recognize_google(audio, language=\"ru-RU\")\n",
    "    print(\"Text: \"+s)\n",
    "except Exception as e:\n",
    "    print(\"Exception: \"+str(e))\n",
    "\n",
    "z = open('text-from.txt','w') \n",
    "z.write(s) \n",
    "z.close()"
   ]
  },
  {
   "cell_type": "code",
   "execution_count": 3,
   "metadata": {
    "collapsed": false
   },
   "outputs": [
    {
     "name": "stdout",
     "output_type": "stream",
     "text": [
      "5\n",
      "394\n"
     ]
    }
   ],
   "source": [
    "from bs4 import BeautifulSoup\n",
    "import requests\n",
    "\n",
    "streetsList = []\n",
    "\n",
    "def get_html(url):\n",
    "    r = requests.get(url)\n",
    "    return r.text\n",
    "\n",
    "def get_total_pages( html ):\n",
    "    soup = BeautifulSoup(html, 'lxml')\n",
    "    pages = int(soup.find('ul', class_='pagination').find_all('a')[-1].text)\n",
    "    print(pages)\n",
    "    return pages\n",
    "\n",
    "def get_street_names( html ):\n",
    "    soup = BeautifulSoup(html, 'lxml')\n",
    "    pageForFinding = soup.find('div', class_='content-block').find_all('a')\n",
    "    for street in pageForFinding:\n",
    "        streetsList.append(street.text)\n",
    "   # pageForFinding = pageForFinding.strip()\n",
    "\n",
    "def main():\n",
    "    url = \"https://mapdata.ru/severnaya-osetiya/vladikavkaz/ulicy/stranica-1/\"\n",
    "    html_text = get_html(url)\n",
    "    pages = get_total_pages(html_text)\n",
    "    for i in range (1, pages+1):\n",
    "        urlForEachPage = 'https://mapdata.ru/severnaya-osetiya/vladikavkaz/ulicy/stranica-' + str(i) + '/'\n",
    "        html_text = get_html(urlForEachPage)\n",
    "        get_street_names(html_text)\n",
    "\n",
    "    f = open('outputdata.txt', 'w')\n",
    "    for item in streetsList:\n",
    "        f.write(\"%s\\n\" % item)\n",
    "    f.close()\n",
    "    print(len(streetsList))\n",
    "\n",
    "if __name__ == '__main__':\n",
    "    main()"
   ]
  },
  {
   "cell_type": "code",
   "execution_count": 4,
   "metadata": {
    "collapsed": false
   },
   "outputs": [],
   "source": [
    "string1 = open('text-from.txt', 'r')\n",
    "text = ((string1.read()).lower()).split(' ')\n",
    "list1 = open('outputdata.txt', 'r')\n",
    "text2 = ((list1.read()).lower()).split()\n",
    "\n",
    "for i in range(len(text2)):\n",
    "    if text2[i] == 'улица':\n",
    "        text2[i] = ''\n",
    "\n",
    "for x in range(len(text)):\n",
    "    for p in text2:\n",
    "        if text[x] == p:\n",
    "            text[x] = 'улица  ' + text[x].title()\n",
    "\n",
    "text = str(text)\n",
    "text = text.replace('[','').replace(']','').replace(',','').replace(r\"'\",\"\")\n",
    "        \n",
    "d = open('text-from.txt','w') \n",
    "d.write(text) \n",
    "d.close()"
   ]
  },
  {
   "cell_type": "code",
   "execution_count": 5,
   "metadata": {
    "collapsed": false
   },
   "outputs": [
    {
     "name": "stdout",
     "output_type": "stream",
     "text": [
      "я нахожусь на улице [[улица  Шмулевича 5]]\n"
     ]
    }
   ],
   "source": [
    "from natasha import (AddressExtractor, LocationExtractor)\n",
    "from natasha.markup import show_markup, show_json, format_json\n",
    "\n",
    "\n",
    "extractor = AddressExtractor()\n",
    "\n",
    "t = open('text-from.txt', 'r')\n",
    "text = t.read()\n",
    "\n",
    "matches = extractor(text)\n",
    "spans = [_.span for _ in matches]\n",
    "facts = [_.fact.as_json for _ in matches]\n",
    "show_markup(text, spans)\n",
    "json_string = format_json(facts)"
   ]
  },
  {
   "cell_type": "code",
   "execution_count": 6,
   "metadata": {
    "collapsed": false
   },
   "outputs": [
    {
     "name": "stdout",
     "output_type": "stream",
     "text": [
      "Клиент находится на улице:\n",
      "name Шмулевича\n",
      "type улица\n",
      "number 5\n"
     ]
    }
   ],
   "source": [
    "json_string = format_json(facts)\n",
    "parsed_string = json.loads(json_string)\n",
    "for i in parsed_string:\n",
    "    for j in i:\n",
    "        print('Клиент находится на улице:')\n",
    "        for k in i[j]:\n",
    "            for p in k:\n",
    "                print(p, k[p])"
   ]
  },
  {
   "cell_type": "code",
   "execution_count": 7,
   "metadata": {
    "collapsed": false
   },
   "outputs": [
    {
     "name": "stdout",
     "output_type": "stream",
     "text": [
      "Куда отправитесь\n"
     ]
    },
    {
     "name": "stderr",
     "output_type": "stream",
     "text": [
      "/home/hetag/anaconda3/lib/python3.5/site-packages/requests/packages/urllib3/connectionpool.py:838: InsecureRequestWarning: Unverified HTTPS request is being made. Adding certificate verification is strongly advised. See: https://urllib3.readthedocs.io/en/latest/security.html\n",
      "  InsecureRequestWarning)\n"
     ]
    }
   ],
   "source": [
    "# Для того чтобы не возникало коллизий при удалении mp3 файлов\n",
    "# заведем переменную mp3_nameold в которой будем хранить имя предыдущего mp3 файла\n",
    "mp3_nameold='111'\n",
    "mp3_name = \"1.mp3\"\n",
    "\n",
    "# Инициализируем звуковое устройство\n",
    "mixer.init()\n",
    "\n",
    "# Открываем файл с текстом и по очереди читаем с него строки в ss\n",
    "f = open(\"to.txt\",\"r\")\n",
    "ss = f.readline()\n",
    "while ss:\n",
    "    # Делим прочитанные строки на отдельные предложения\n",
    "    split_regex = re.compile(r'[.|!|?|…]')\n",
    "    sentences = filter(lambda t: t, [t.strip() for t in split_regex.split(ss)])\n",
    "\n",
    "    # Перебираем массив с предложениями \n",
    "    for x in sentences:\n",
    "        if(x!=\"\"):\n",
    "            print(x)\n",
    "            # Эта строка отправляет предложение которое нужно озвучить гуглу\n",
    "            tts=gTTS(text=x, lang='ru', slow=False)\n",
    "            # Получаем от гугла озвученное предложение в виде mp3 файла           \n",
    "            tts.save(mp3_name)\n",
    "            # Проигрываем полученный mp3 файл\n",
    "            mixer.music.load(mp3_name)\n",
    "            mixer.music.play()\n",
    "            while mixer.music.get_busy():\n",
    "                time.sleep(0.1)\n",
    "            # Если предыдущий mp3 файл существует удаляем его\n",
    "            # чтобы не захламлять папку с приложением кучей mp3 файлов\n",
    "            if(os.path.exists(mp3_nameold) and (mp3_nameold!=\"1.mp3\")):\n",
    "                os.remove(mp3_nameold)\n",
    "            mp3_nameold=mp3_name\n",
    "            # Формируем имя mp3 файла куда будет сохраняться озвученный текст текущего предложения\n",
    "            # В качестве имени файла используем текущие дату и время\n",
    "            now_time = datetime.datetime.now()\n",
    "            mp3_name = now_time.strftime(\"%d%m%Y%I%M%S\")+\".mp3\"\n",
    "            \n",
    "    # Читаем следующую порцию текста из файла\n",
    "    ss = f.readline()\n",
    "\n",
    "# Закрываем файл    \n",
    "f.close\n",
    "\n",
    "# Устанвливаем текущим файлом 1.mp3 и закрываем звуковое устройство\n",
    "# Это нужно чтобы мы могли удалить предыдущий mp3 файл без колизий\n",
    "mixer.music.load('1.mp3')\n",
    "mixer.stop\n",
    "mixer.quit\n",
    "\n",
    "# Удаляем последний предыдущий mp3 файл\n",
    "if(os.path.exists(mp3_nameold)):\n",
    "    os.remove(mp3_nameold)\n"
   ]
  },
  {
   "cell_type": "code",
   "execution_count": 8,
   "metadata": {
    "collapsed": false
   },
   "outputs": [
    {
     "name": "stdout",
     "output_type": "stream",
     "text": [
      "Text: Я поеду на Тельмана 3\n"
     ]
    }
   ],
   "source": [
    "import pygame\n",
    "import time\n",
    "pygame.init()\n",
    "pygame.mixer.music.load(\"3.wav\")\n",
    "pygame.mixer.music.play()\n",
    "time.sleep(10)\n",
    "\n",
    "import speech_recognition as sr\n",
    "r = sr.Recognizer()\n",
    "with sr.AudioFile(\"3.wav\") as source:\n",
    "    audio = r.record(source)\n",
    "\n",
    "try:\n",
    "    s = r.recognize_google(audio, language=\"ru-RU\")\n",
    "    print(\"Text: \"+s)\n",
    "except Exception as e:\n",
    "    print(\"Exception: \"+str(e))\n",
    "\n",
    "z = open('text-to.txt','w') \n",
    "z.write(s) \n",
    "z.close()"
   ]
  },
  {
   "cell_type": "code",
   "execution_count": 9,
   "metadata": {
    "collapsed": false
   },
   "outputs": [],
   "source": [
    "string1 = open('text-to.txt', 'r')\n",
    "text = ((string1.read()).lower()).split(' ')\n",
    "list1 = open('outputdata.txt', 'r')\n",
    "text2 = ((list1.read()).lower()).split()\n",
    "\n",
    "for i in range(len(text2)):\n",
    "    if text2[i] == 'улица':\n",
    "        text2[i] = ''\n",
    "\n",
    "for x in range(len(text)):\n",
    "    for p in text2:\n",
    "        if text[x] == p:\n",
    "            text[x] = 'улица  ' + text[x].title()\n",
    "\n",
    "text = str(text)\n",
    "text = text.replace('[','').replace(']','').replace(',','').replace(r\"'\",\"\")\n",
    "        \n",
    "\n",
    "d = open('text-to.txt','w') \n",
    "d.write(text) \n",
    "d.close()"
   ]
  },
  {
   "cell_type": "code",
   "execution_count": 10,
   "metadata": {
    "collapsed": false
   },
   "outputs": [
    {
     "name": "stdout",
     "output_type": "stream",
     "text": [
      "я поеду на [[улица  Тельмана 3]]\n"
     ]
    }
   ],
   "source": [
    "from natasha import (AddressExtractor, LocationExtractor)\n",
    "from natasha.markup import show_markup, show_json\n",
    "\n",
    "\n",
    "extractor = AddressExtractor()\n",
    "\n",
    "t = open('text-to.txt', 'r')\n",
    "text = t.read()\n",
    "\n",
    "matches = extractor(text)\n",
    "spans = [_.span for _ in matches]\n",
    "facts = [_.fact.as_json for _ in matches]\n",
    "show_markup(text, spans)\n",
    "json_string = format_json(facts)"
   ]
  },
  {
   "cell_type": "code",
   "execution_count": 11,
   "metadata": {
    "collapsed": false
   },
   "outputs": [
    {
     "name": "stdout",
     "output_type": "stream",
     "text": [
      "Клиент поедет на улицу:\n",
      "name Тельмана\n",
      "type улица\n",
      "number 3\n"
     ]
    }
   ],
   "source": [
    "json_string = format_json(facts)\n",
    "parsed_string = json.loads(json_string)\n",
    "for i in parsed_string:\n",
    "    for j in i:\n",
    "        print('Клиент поедет на улицу:')\n",
    "        for k in i[j]:\n",
    "            for p in k:\n",
    "                print(p, k[p])"
   ]
  },
  {
   "cell_type": "code",
   "execution_count": null,
   "metadata": {
    "collapsed": true
   },
   "outputs": [],
   "source": []
  }
 ],
 "metadata": {
  "anaconda-cloud": {},
  "kernelspec": {
   "display_name": "Python [conda root]",
   "language": "python",
   "name": "conda-root-py"
  },
  "language_info": {
   "codemirror_mode": {
    "name": "ipython",
    "version": 3
   },
   "file_extension": ".py",
   "mimetype": "text/x-python",
   "name": "python",
   "nbconvert_exporter": "python",
   "pygments_lexer": "ipython3",
   "version": "3.5.2"
  }
 },
 "nbformat": 4,
 "nbformat_minor": 1
}
